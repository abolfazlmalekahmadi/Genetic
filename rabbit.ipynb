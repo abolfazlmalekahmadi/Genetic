{
 "cells": [
  {
   "cell_type": "markdown",
   "metadata": {},
   "source": [
    "<h1>The model has the following variables:</h1>\n",
    "\n",
    "-rabbits_birthrate [1]: Duration of the useful life of the drug<br/>\n",
    "-rabbits_deathrate [1]: Amout of miligrams per intake.<br/>\n",
    "-foxes_birthrate [1]: Time interval between intakes.<br/>\n",
    "-foxes_deathrate [1]: Number of intakes.<br/>\n",
    "-initial_rabbits [rabbits]: Number of intakes.<br/>\n",
    "-initial_foxes [foxes]: Number of intakes.<br/>\n",
    "-days [days]: The total number of days the model will analyse.<br/>\n",
    "\n",
    "<h1>Notation for the equation:</h1>\n",
    "\n",
    "x(t): Population of Rabbits over time<br/>\n",
    "x(0)= initial_rabbits<br/>\n",
    "y(t): Population of Foxes over time<br/>\n",
    "y(0)= initial_foxes<br/>\n",
    "a= rabbits_birthrate<br/>\n",
    "b= rabbits_deathrate<br/>\n",
    "c= foxes_birthrate<br/>\n",
    "d= foxes_deathrate<br/>"
   ]
  },
  {
   "cell_type": "markdown",
   "metadata": {},
   "source": [
    "With the previously defined notation, the ordinary differential equation is as follows:"
   ]
  },
  {
   "cell_type": "markdown",
   "metadata": {},
   "source": [
    "$ \\frac{dx}{ dt} = ax - bxy $  \n",
    "$ \\frac{dy}{ dt} = cxy - dy $  \n",
    "\n",
    "\n"
   ]
  },
  {
   "cell_type": "code",
   "execution_count": 1,
   "metadata": {},
   "outputs": [
    {
     "data": {
      "application/vnd.jupyter.widget-view+json": {
       "model_id": "b2afb705bb6e4b6da172ed4a13e29c37",
       "version_major": 2,
       "version_minor": 0
      },
      "text/plain": [
       "interactive(children=(FloatSlider(value=1.0, description='Birth Rate of Rabbits', layout=Layout(width='99%'), …"
      ]
     },
     "metadata": {},
     "output_type": "display_data"
    }
   ],
   "source": [
    "import numpy as np\n",
    "from matplotlib import pyplot as plt\n",
    "from scipy.integrate import odeint\n",
    "\n",
    "# Jupyter Specifics\n",
    "from IPython.display import HTML\n",
    "from ipywidgets.widgets import interact, IntSlider, FloatSlider, Layout\n",
    "\n",
    "style = {'description_width': '150px'}\n",
    "slider_layout = Layout(width='99%')\n",
    "def main(rabbits_birthrate, rabbits_deathrate, foxes_birthrate, foxes_deathrate, initial_rabbits, initial_foxes, days):\n",
    "\n",
    "    def function(s, t):\n",
    "        x, y = s\n",
    "        dydt = [\n",
    "            rabbits_birthrate * x     - rabbits_deathrate * x * y, # dx/dy: Change in Rabbits\n",
    "            foxes_birthrate   * x * y - foxes_deathrate   * y      # dy/dt: Change in Foxes\n",
    "        ]\n",
    "\n",
    "        return dydt\n",
    "\n",
    "    time = np.arange(0, days, 0.01)\n",
    "    initial_conditions = [initial_rabbits, initial_foxes]\n",
    "    solution = odeint(function, initial_conditions, time)\n",
    "\n",
    "    #Graphic details\n",
    "    fig, axes = plt.subplots(1, 2, figsize=(15, 10))\n",
    "\n",
    "    ax = axes[0]\n",
    "\n",
    "    ax.plot(time, solution[:, 0], label='Rabbits(t)')\n",
    "    ax.plot(time, solution[:, 1], label='Foxes(t)')\n",
    "\n",
    "    if days <= 30:\n",
    "        step = 1\n",
    "        rotation = \"horizontal\"\n",
    "    elif days <= 150:\n",
    "        step = 5\n",
    "        rotation = \"vertical\"\n",
    "    else:\n",
    "        step = 10\n",
    "        rotation = \"vertical\"\n",
    "\n",
    "    ax.set_xticklabels(np.arange(0, days + 1, step, dtype=np.int), rotation=rotation)\n",
    "    ax.set_xticks(np.arange(0, days + 1, step))\n",
    "\n",
    "    ax.set_xlim([0, days])\n",
    "    ax.set_ylim([0, max(max(solution[:, 0]), max(solution[:, 1])) * 1.05])\n",
    "    ax.set_xlabel('Time')\n",
    "    ax.set_ylabel('Population')\n",
    "    ax.legend(loc='best')\n",
    "    ax.grid()\n",
    "\n",
    "\n",
    "    ax = axes[1]\n",
    "\n",
    "    ax.plot(solution[:, 0], solution[:, 1], label='Foxes vs Rabbits')\n",
    "\n",
    "    ax.set_xlim([0, max(solution[:, 0]) * 1.05])\n",
    "    ax.set_ylim([0, max(solution[:, 1]) * 1.05])\n",
    "    ax.set_xlabel('Rabbits')\n",
    "    ax.set_ylabel('Foxes')\n",
    "    ax.legend(loc='best')\n",
    "    ax.grid()\n",
    "\n",
    "    plt.tight_layout()\n",
    "    plt.show()\n",
    "\n",
    "interact(main, rabbits_birthrate=FloatSlider(min=0, max=24, step=0.01, value=1, description='Birth Rate of Rabbits', style=style, layout=slider_layout),\n",
    "               rabbits_deathrate=FloatSlider(min=0, max=24, step=0.01, value=1, description='Death Rate of Rabbits', style=style, layout=slider_layout),\n",
    "               foxes_birthrate=FloatSlider(min=0, max=24, step=0.01, value=1, description='Birth Rate of Foxes', style=style, layout=slider_layout),\n",
    "               foxes_deathrate=FloatSlider(min=0, max=24, step=0.01, value=1, description='Death Rate of Foxes', style=style, layout=slider_layout),\n",
    "               initial_rabbits=FloatSlider(min=0 , max=100, step=1, value=2, description='Initial Rabbits', style=style, layout=slider_layout),\n",
    "               initial_foxes=FloatSlider(min=0 , max=100, step=1, value=1, description='Initial Foxes', style=style, layout=slider_layout),\n",
    "               days=FloatSlider(min=0 ,max=365 , step=10, value=15, description='Total number of Days', style=style, layout=slider_layout),\n",
    "        );"
   ]
  }
 ],
 "metadata": {
  "kernelspec": {
   "display_name": "Python 3.11.0 64-bit",
   "language": "python",
   "name": "python3"
  },
  "language_info": {
   "codemirror_mode": {
    "name": "ipython",
    "version": 3
   },
   "file_extension": ".py",
   "mimetype": "text/x-python",
   "name": "python",
   "nbconvert_exporter": "python",
   "pygments_lexer": "ipython3",
   "version": "3.11.0"
  },
  "orig_nbformat": 4,
  "vscode": {
   "interpreter": {
    "hash": "aee8b7b246df8f9039afb4144a1f6fd8d2ca17a180786b69acc140d282b71a49"
   }
  }
 },
 "nbformat": 4,
 "nbformat_minor": 2
}
